{
 "cells": [
  {
   "cell_type": "code",
   "execution_count": null,
   "metadata": {},
   "outputs": [],
   "source": [
    "from multiprocessing import freeze_support\n",
    "import pandas as pd\n",
    "from datasets import load_dataset\n",
    "from simpletransformers.classification import ClassificationArgs, ClassificationModel\n",
    "import numpy as np\n",
    "from sklearn.metrics import classification_report, f1_score\n"
   ]
  },
  {
   "cell_type": "code",
   "execution_count": null,
   "metadata": {},
   "outputs": [],
   "source": [
    "tomatoes = load_dataset(\"rotten_tomatoes\")\n",
    "train_df = pd.DataFrame(tomatoes[\"train\"])\n",
    "test_df = pd.DataFrame(tomatoes[\"test\"])"
   ]
  },
  {
   "cell_type": "code",
   "execution_count": null,
   "metadata": {},
   "outputs": [],
   "source": [
    "model_args = ClassificationArgs()\n",
    "model_args.train_custom_parameters_only = True\n",
    "model_args.custom_parameter_groups = [\n",
    "        {\"params\": [\"classifier.weight\"], \"lr\": 1e-3},\n",
    "        {\"params\": [\"classifier.bias\"], \"lr\": 1e-3, \"weight_decay\": 0.0},\n",
    "]\n",
    "\n",
    "model = ClassificationModel(model_type=\"bert\", model_name=\"bert-base-cased\", args=model_args, use_cuda=False)\n",
    "\n",
    "model.train_model(train_df)"
   ]
  },
  {
   "cell_type": "code",
   "execution_count": null,
   "metadata": {},
   "outputs": [],
   "source": [
    "result, model_outputs, wrong_predictions = model.eval_model(test_df, f1=f1_score)\n",
    "y_pred = np.argmax(model_outputs, axis=1)\n",
    "print(classification_report(test_df.label, y_pred))"
   ]
  }
 ],
 "metadata": {
  "language_info": {
   "name": "python"
  }
 },
 "nbformat": 4,
 "nbformat_minor": 2
}
