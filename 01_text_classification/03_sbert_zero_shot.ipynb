{
 "cells": [
  {
   "cell_type": "code",
   "execution_count": null,
   "metadata": {},
   "outputs": [],
   "source": [
    "from multiprocessing import freeze_support\n",
    "import numpy as np\n",
    "import pandas as pd\n",
    "from sentence_transformers import SentenceTransformer, util\n",
    "from datasets import load_dataset\n",
    "from sklearn.metrics import classification_report\n",
    "from sklearn.metrics.pairwise import cosine_similarity\n",
    "from transformers import pipeline\n",
    "import torch"
   ]
  },
  {
   "cell_type": "code",
   "execution_count": null,
   "metadata": {},
   "outputs": [],
   "source": [
    "tomatoes = load_dataset(\"rotten_tomatoes\")\n",
    "test_df = pd.DataFrame(tomatoes[\"test\"])"
   ]
  },
  {
   "cell_type": "code",
   "execution_count": null,
   "metadata": {},
   "outputs": [],
   "source": [
    "def embdding_and_consine_eval(test_df):\n",
    "    model = SentenceTransformer('all-mpnet-base-v2')\n",
    "    eval_embeddings = model.encode(test_df.text, show_progress_bar=True)\n",
    "    label_embeddings = model.encode([\"A very negative review\", \"A very positive review\"])\n",
    "    sim_matrix = cosine_similarity(eval_embeddings, label_embeddings)\n",
    "    y_pred = np.argmax(sim_matrix, axis=1)\n",
    "    print('Embedding and cosine eval')\n",
    "    print(classification_report(test_df.label, y_pred))\n",
    "\n",
    "embdding_and_consine_eval(test_df)"
   ]
  },
  {
   "cell_type": "code",
   "execution_count": null,
   "metadata": {},
   "outputs": [],
   "source": [
    "def nli_eval(test_df):\n",
    "    pipe = pipeline(model=\"facebook/bart-large-mnli\", device=torch.device(\"mps\"))\n",
    "    candidate_labels_dict = {\"negative movie review\": 0, \"positive movie review\": 1}\n",
    "    candidate_labels = [\"negative movie review\", \"positive movie review\"]\n",
    "    predictions = pipe(test_df.text.tolist(), candidate_labels, multi_label=True)\n",
    "    y_pred = [candidate_labels_dict[prediction[\"labels\"][0]] for prediction in predictions]\n",
    "    print('NLI eval')\n",
    "    print(classification_report(test_df.label, y_pred))\n",
    "\n",
    "nli_eval(test_df)"
   ]
  }
 ],
 "metadata": {
  "language_info": {
   "name": "python"
  }
 },
 "nbformat": 4,
 "nbformat_minor": 2
}
