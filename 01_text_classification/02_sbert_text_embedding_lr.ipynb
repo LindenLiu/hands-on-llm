{
 "cells": [
  {
   "cell_type": "code",
   "execution_count": null,
   "metadata": {},
   "outputs": [],
   "source": [
    "from multiprocessing import freeze_support\n",
    "from sentence_transformers import SentenceTransformer\n",
    "from datasets import load_dataset\n",
    "import pandas as pd\n",
    "from sklearn.linear_model import LogisticRegression\n",
    "from sklearn.metrics import classification_report"
   ]
  },
  {
   "cell_type": "code",
   "execution_count": null,
   "metadata": {},
   "outputs": [],
   "source": [
    "tomatoes = load_dataset(\"rotten_tomatoes\")\n",
    "train_df = pd.DataFrame(tomatoes[\"train\"])\n",
    "test_df = pd.DataFrame(tomatoes[\"test\"])"
   ]
  },
  {
   "cell_type": "code",
   "execution_count": null,
   "metadata": {},
   "outputs": [],
   "source": [
    "model = SentenceTransformer('all-mpnet-base-v2')\n",
    "train_embeddings = model.encode(train_df.text, show_progress_bar=True)\n",
    "test_embeddings = model.encode(test_df.text, show_progress_bar=True)\n",
    "clf = LogisticRegression(random_state=42).fit(train_embeddings, train_df.label)\n",
    "y_pred = clf.predict(test_embeddings)\n",
    "print(classification_report(test_df.label, y_pred))"
   ]
  }
 ],
 "metadata": {
  "language_info": {
   "name": "python"
  }
 },
 "nbformat": 4,
 "nbformat_minor": 2
}
