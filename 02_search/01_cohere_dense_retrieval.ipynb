{
 "cells": [
  {
   "cell_type": "markdown",
   "metadata": {},
   "source": [
    "### Use dense retrieval for search\n",
    "\n",
    "### Caveats:\n",
    "1. If the texts doesn't have relative anser, it will still return. It can be dealt with a threshold. And gathering feedback from customer to improve the future version\n",
    "2. It can not deal with extact match very well (it is a sematic search). Using a hybrid search: sematic and keyword search can deal with this case.\n",
    "3. Hard to work properly in domains other than ones that they were trained on. \n",
    "4. If the answers are not one sentence but among multiple sentences, this approach doesn't work well. **This shows one of the important design parameters of dense retrieval systems: what is the best way to chunk long texts? And why do we need to chunk them in the first place?**"
   ]
  },
  {
   "cell_type": "markdown",
   "metadata": {},
   "source": [
    "## Chuncking \n",
    "### One Vector per Doc\n",
    "* Embedding only a representative part of the document and ignoring the rest of the text. (As an approach, it may work better for documents where the beginning captures the main points of a document )\n",
    "* Embedding the document in chunks, embedding those chunks and then aggregating those chunks into a single vector. Usually average those chunks, it might lose a lot of the information in the document. (It treats every chunk equally may lose other important information as well)\n",
    "\n",
    "### Multiple vectors per doc\n",
    "* Each sentence is a chunk. The issue here is this could be too granular and the vectors don’t capture enough of the context.\n",
    "* Each paragraph is a chunk. This is great if the text is made up of short paragraphs. Otherwise, it may be that every 4-8 sentences are a chunk.\n",
    "* Some chunks derive a lot of their meaning from the text around them. So we can incorporate some context via:\n",
    "  * Adding the title of the document to the chunk\n",
    "  * Adding some of the text before and after them to the chunk. This way, the chunks can overlap so they include some surrounding text. "
   ]
  },
  {
   "cell_type": "markdown",
   "metadata": {},
   "source": [
    "## Searching:\n",
    "* For less data, like thousands or tens of thousands, NumPy is reasonable. \n",
    "* For beyond millions of vectors, approximate nearest neighbor search libraries like Annoy or FAISS should be use to make it faster.\n",
    "* Or using Vector Database."
   ]
  },
  {
   "cell_type": "markdown",
   "metadata": {},
   "source": [
    "## Reranking\n",
    "\n",
    "Using LLM or other model to rerank the result from dense retrieval to improve the results is a common way for the case that the there is already a search pipeline. \n",
    "\n",
    "### Open Source Retrieve & Re-Rank by using s-bert\n",
    "[Retrieve & Re-Rank](https://www.sbert.net/examples/applications/retrieve_rerank/README.html)"
   ]
  },
  {
   "cell_type": "code",
   "execution_count": null,
   "metadata": {},
   "outputs": [],
   "source": [
    "%pip install cohere tqdm Annoy"
   ]
  },
  {
   "cell_type": "code",
   "execution_count": 2,
   "metadata": {},
   "outputs": [],
   "source": [
    "import cohere\n",
    "import numpy as np\n",
    "import re\n",
    "import pandas as pd\n",
    "from tqdm import tqdm\n",
    "from sklearn.metrics.pairwise import cosine_similarity\n",
    "from annoy import AnnoyIndex"
   ]
  },
  {
   "cell_type": "code",
   "execution_count": 3,
   "metadata": {},
   "outputs": [],
   "source": [
    "api_key = ''"
   ]
  },
  {
   "cell_type": "code",
   "execution_count": 4,
   "metadata": {},
   "outputs": [],
   "source": [
    "co = cohere.Client(api_key)"
   ]
  },
  {
   "cell_type": "code",
   "execution_count": 25,
   "metadata": {},
   "outputs": [],
   "source": [
    "text = \"\"\"\n",
    "nterstellar is a 2014 epic science fiction film co-written, directed, and produced by Christopher Nolan. It stars Matthew McConaughey, Anne Hathaway, Jessica Chastain, Bill Irwin, Ellen Burstyn, Matt Damon, and Michael Caine. Set in a dystopian future where humanity is embroiled in a catastrophic blight and famine, the film follows a group of astronauts who travel through a wormhole near Saturn in search of a new home for humankind.\n",
    "\n",
    "Brothers Christopher and Jonathan Nolan wrote the screenplay, which had its origins in a script Jonathan developed in 2007 and was originally set to be directed by Steven Spielberg. Kip Thorne, a Caltech theoretical physicist and 2017 Nobel laureate in Physics,[4] was an executive producer, acted as a scientific consultant, and wrote a tie-in book, The Science of Interstellar. Cinematographer Hoyte van Hoytema shot it on 35 mm movie film in the Panavision anamorphic format and IMAX 70 mm. Principal photography began in late 2013 and took place in Alberta, Iceland, and Los Angeles. Interstellar uses extensive practical and miniature effects, and the company Double Negative created additional digital effects.\n",
    "\n",
    "Interstellar premiered in Los Angeles on October 26, 2014. In the United States, it was first released on film stock, expanding to venues using digital projectors. The film received generally positive reviews from critics and grossed over $681 million worldwide ($703 million after subsequent re-releases), making it the tenth-highest-grossing film of 2014. It has been praised by astronomers for its scientific accuracy and portrayal of theoretical astrophysics.[5][6][7] Interstellar was nominated for five awards at the 87th Academy Awards, winning Best Visual Effects, and received numerous other accolades.\n",
    "\"\"\"\n",
    "\n",
    "texts = text.split('.')\n",
    "\n",
    "# Clean up to remove empty space and new lines\n",
    "texts = np.array([t.strip(' \\n') for t in texts])"
   ]
  },
  {
   "cell_type": "code",
   "execution_count": 26,
   "metadata": {},
   "outputs": [
    {
     "name": "stderr",
     "output_type": "stream",
     "text": [
      "default model on embed will be deprecated in the future, please specify a model in the request.\n"
     ]
    },
    {
     "name": "stdout",
     "output_type": "stream",
     "text": [
      "(14, 4096)\n"
     ]
    }
   ],
   "source": [
    "# Create embeddings\n",
    "response = co.embed(texts=texts.tolist())\n",
    "embeds = np.array(response.embeddings)\n",
    "print(embeds.shape)"
   ]
  },
  {
   "cell_type": "code",
   "execution_count": 27,
   "metadata": {},
   "outputs": [
    {
     "data": {
      "text/plain": [
       "True"
      ]
     },
     "execution_count": 27,
     "metadata": {},
     "output_type": "execute_result"
    }
   ],
   "source": [
    "# Create the search index\n",
    "search_index = AnnoyIndex(embeds.shape[1], 'angular')\n",
    "\n",
    "for index, embed in enumerate(embeds):\n",
    "    search_index.add_item(index, embed)\n",
    "\n",
    "search_index.build(10)\n",
    "search_index.save('interstellar.ann')"
   ]
  },
  {
   "cell_type": "code",
   "execution_count": 36,
   "metadata": {},
   "outputs": [],
   "source": [
    "def search(query):\n",
    "    response = co.embed(texts=[query])\n",
    "    query_embed = response.embeddings[0]\n",
    "    simliar_item_ids = search_index.get_nns_by_vector(query_embed, 5, include_distances=True)\n",
    "    results = pd.DataFrame({'text': texts[simliar_item_ids[0]], 'distances': simliar_item_ids[1]})\n",
    "    print(\"Query for '{}' \\n The nearest neighbors: \\n {}\".format(query, results))\n",
    "    return results"
   ]
  },
  {
   "cell_type": "code",
   "execution_count": 35,
   "metadata": {},
   "outputs": [
    {
     "name": "stderr",
     "output_type": "stream",
     "text": [
      "default model on embed will be deprecated in the future, please specify a model in the request.\n",
      "default model on embed will be deprecated in the future, please specify a model in the request.\n"
     ]
    },
    {
     "name": "stdout",
     "output_type": "stream",
     "text": [
      "Query for 'How much did the film make?': and the nearest neighbors: \n",
      "                                                 text  distances\n",
      "0  The film received generally positive reviews f...   0.890909\n",
      "1  It stars Matthew McConaughey, Anne Hathaway, J...   1.066916\n",
      "2  In the United States, it was first released on...   1.086900\n",
      "3  Cinematographer Hoyte van Hoytema shot it on 3...   1.099424\n",
      "4  Interstellar premiered in Los Angeles on Octob...   1.152348\n",
      "Query for 'Which actors are involved?': and the nearest neighbors: \n",
      "                                                 text  distances\n",
      "0  It stars Matthew McConaughey, Anne Hathaway, J...   0.917706\n",
      "1  Principal photography began in late 2013 and t...   1.183912\n",
      "2  Cinematographer Hoyte van Hoytema shot it on 3...   1.190191\n",
      "3  Brothers Christopher and Jonathan Nolan wrote ...   1.194230\n",
      "4  Interstellar premiered in Los Angeles on Octob...   1.228957\n"
     ]
    },
    {
     "data": {
      "text/html": [
       "<div>\n",
       "<style scoped>\n",
       "    .dataframe tbody tr th:only-of-type {\n",
       "        vertical-align: middle;\n",
       "    }\n",
       "\n",
       "    .dataframe tbody tr th {\n",
       "        vertical-align: top;\n",
       "    }\n",
       "\n",
       "    .dataframe thead th {\n",
       "        text-align: right;\n",
       "    }\n",
       "</style>\n",
       "<table border=\"1\" class=\"dataframe\">\n",
       "  <thead>\n",
       "    <tr style=\"text-align: right;\">\n",
       "      <th></th>\n",
       "      <th>text</th>\n",
       "      <th>distances</th>\n",
       "    </tr>\n",
       "  </thead>\n",
       "  <tbody>\n",
       "    <tr>\n",
       "      <th>0</th>\n",
       "      <td>It stars Matthew McConaughey, Anne Hathaway, J...</td>\n",
       "      <td>0.917706</td>\n",
       "    </tr>\n",
       "    <tr>\n",
       "      <th>1</th>\n",
       "      <td>Principal photography began in late 2013 and t...</td>\n",
       "      <td>1.183912</td>\n",
       "    </tr>\n",
       "    <tr>\n",
       "      <th>2</th>\n",
       "      <td>Cinematographer Hoyte van Hoytema shot it on 3...</td>\n",
       "      <td>1.190191</td>\n",
       "    </tr>\n",
       "    <tr>\n",
       "      <th>3</th>\n",
       "      <td>Brothers Christopher and Jonathan Nolan wrote ...</td>\n",
       "      <td>1.194230</td>\n",
       "    </tr>\n",
       "    <tr>\n",
       "      <th>4</th>\n",
       "      <td>Interstellar premiered in Los Angeles on Octob...</td>\n",
       "      <td>1.228957</td>\n",
       "    </tr>\n",
       "  </tbody>\n",
       "</table>\n",
       "</div>"
      ],
      "text/plain": [
       "                                                text  distances\n",
       "0  It stars Matthew McConaughey, Anne Hathaway, J...   0.917706\n",
       "1  Principal photography began in late 2013 and t...   1.183912\n",
       "2  Cinematographer Hoyte van Hoytema shot it on 3...   1.190191\n",
       "3  Brothers Christopher and Jonathan Nolan wrote ...   1.194230\n",
       "4  Interstellar premiered in Los Angeles on Octob...   1.228957"
      ]
     },
     "execution_count": 35,
     "metadata": {},
     "output_type": "execute_result"
    }
   ],
   "source": [
    "search('How much did the film make?')\n",
    "\n",
    "search('Which actors are involved?')"
   ]
  },
  {
   "cell_type": "code",
   "execution_count": 44,
   "metadata": {},
   "outputs": [],
   "source": [
    "results = co.rerank(documents=texts.tolist(), query='film gross', model=\"rerank-english-02\", top_n=3)"
   ]
  },
  {
   "cell_type": "code",
   "execution_count": 45,
   "metadata": {},
   "outputs": [
    {
     "name": "stdout",
     "output_type": "stream",
     "text": [
      "[RerankResult<document['text']: The film received generally positive reviews from critics and grossed over $681 million worldwide ($703 million after subsequent re-releases), making it the tenth-highest-grossing film of 2014, index: 10, relevance_score: 0.8873999>, RerankResult<document['text']: It has been praised by astronomers for its scientific accuracy and portrayal of theoretical astrophysics, index: 11, relevance_score: 0.0434469>, RerankResult<document['text']: Set in a dystopian future where humanity is embroiled in a catastrophic blight and famine, the film follows a group of astronauts who travel through a wormhole near Saturn in search of a new home for humankind, index: 2, relevance_score: 0.042087726>]\n",
      "Document Rank: 1, Document Index : 10\n",
      "Document Text: The film received generally positive reviews from critics and grossed over $681 million worldwide ($703 million after subsequent re-releases), making it the tenth-highest-grossing film of 2014\n",
      "Document Score: 0.89\n",
      "Document Rank: 2, Document Index : 11\n",
      "Document Text: It has been praised by astronomers for its scientific accuracy and portrayal of theoretical astrophysics\n",
      "Document Score: 0.04\n",
      "Document Rank: 3, Document Index : 2\n",
      "Document Text: Set in a dystopian future where humanity is embroiled in a catastrophic blight and famine, the film follows a group of astronauts who travel through a wormhole near Saturn in search of a new home for humankind\n",
      "Document Score: 0.04\n"
     ]
    }
   ],
   "source": [
    "print(results)\n",
    "\n",
    "for idx, r in enumerate(results):\n",
    "    print(f\"Document Rank: {idx+1}, Document Index : {r.index}\")\n",
    "    print(f\"Document Text: {r.document['text']}\")\n",
    "    print(f\"Document Score: {r.relevance_score:.2f}\")"
   ]
  }
 ],
 "metadata": {
  "kernelspec": {
   "display_name": ".venv",
   "language": "python",
   "name": "python3"
  },
  "language_info": {
   "codemirror_mode": {
    "name": "ipython",
    "version": 3
   },
   "file_extension": ".py",
   "mimetype": "text/x-python",
   "name": "python",
   "nbconvert_exporter": "python",
   "pygments_lexer": "ipython3",
   "version": "3.11.5"
  }
 },
 "nbformat": 4,
 "nbformat_minor": 2
}
